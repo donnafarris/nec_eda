{
 "cells": [
  {
   "cell_type": "code",
   "execution_count": 1,
   "metadata": {},
   "outputs": [],
   "source": [
    "import pandas as pd"
   ]
  },
  {
   "cell_type": "code",
   "execution_count": 2,
   "metadata": {},
   "outputs": [],
   "source": [
    "nec_df = pd.read_csv('../data/near_earth_comets.csv')"
   ]
  },
  {
   "cell_type": "code",
   "execution_count": 3,
   "metadata": {},
   "outputs": [
    {
     "data": {
      "text/plain": [
       "Index(['Object', 'Epoch (TDB)', 'TP (TDB)', 'e', 'i (deg)', 'w (deg)',\n",
       "       'Node (deg)', 'q (AU)', 'Q (AU)', 'P (yr)', 'MOID (AU)', 'A1 (AU/d^2)',\n",
       "       'A2 (AU/d^2)', 'A3 (AU/d^2)', 'DT (d)', 'ref', 'Object_name'],\n",
       "      dtype='object')"
      ]
     },
     "execution_count": 3,
     "metadata": {},
     "output_type": "execute_result"
    }
   ],
   "source": [
    "nec_df.columns"
   ]
  },
  {
   "cell_type": "code",
   "execution_count": 4,
   "metadata": {},
   "outputs": [
    {
     "data": {
      "text/plain": [
       "(160, 17)"
      ]
     },
     "execution_count": 4,
     "metadata": {},
     "output_type": "execute_result"
    }
   ],
   "source": [
    "nec_df.shape"
   ]
  },
  {
   "cell_type": "code",
   "execution_count": 12,
   "metadata": {},
   "outputs": [
    {
     "data": {
      "text/plain": [
       "A1 (AU/d^2)    122\n",
       "A2 (AU/d^2)    119\n",
       "A3 (AU/d^2)    150\n",
       "DT (d)         156\n",
       "dtype: int64"
      ]
     },
     "execution_count": 12,
     "metadata": {},
     "output_type": "execute_result"
    }
   ],
   "source": [
    "null_values = nec_df.isnull().sum()\n",
    "null_values[['A1 (AU/d^2)', 'A2 (AU/d^2)', 'A3 (AU/d^2)', 'DT (d)']]"
   ]
  },
  {
   "cell_type": "code",
   "execution_count": 13,
   "metadata": {},
   "outputs": [
    {
     "data": {
      "text/plain": [
       "Epoch (TDB)     1\n",
       "A1 (AU/d^2)     8\n",
       "A2 (AU/d^2)    21\n",
       "A3 (AU/d^2)     4\n",
       "DT (d)          3\n",
       "dtype: int64"
      ]
     },
     "execution_count": 13,
     "metadata": {},
     "output_type": "execute_result"
    }
   ],
   "source": [
    "negative_values = (nec_df.select_dtypes(include=['float', 'int']) < 0).sum()\n",
    "negative_values[['Epoch (TDB)', 'A1 (AU/d^2)', 'A2 (AU/d^2)', 'A3 (AU/d^2)', 'DT (d)']]"
   ]
  },
  {
   "cell_type": "code",
   "execution_count": 10,
   "metadata": {},
   "outputs": [
    {
     "data": {
      "text/plain": [
       "Epoch (TDB)     1\n",
       "A1 (AU/d^2)     8\n",
       "A2 (AU/d^2)    21\n",
       "A3 (AU/d^2)     4\n",
       "DT (d)          3\n",
       "dtype: int64"
      ]
     },
     "execution_count": 10,
     "metadata": {},
     "output_type": "execute_result"
    }
   ],
   "source": []
  }
 ],
 "metadata": {
  "kernelspec": {
   "display_name": "base",
   "language": "python",
   "name": "python3"
  },
  "language_info": {
   "codemirror_mode": {
    "name": "ipython",
    "version": 3
   },
   "file_extension": ".py",
   "mimetype": "text/x-python",
   "name": "python",
   "nbconvert_exporter": "python",
   "pygments_lexer": "ipython3",
   "version": "3.11.7"
  }
 },
 "nbformat": 4,
 "nbformat_minor": 2
}
